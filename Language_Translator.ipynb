{
  "cells": [
    {
      "cell_type": "markdown",
      "metadata": {
        "id": "view-in-github",
        "colab_type": "text"
      },
      "source": [
        "<a href=\"https://colab.research.google.com/github/sammmy047/Project_Viveka/blob/main/Language_Translator.ipynb\" target=\"_parent\"><img src=\"https://colab.research.google.com/assets/colab-badge.svg\" alt=\"Open In Colab\"/></a>"
      ]
    },
    {
      "cell_type": "markdown",
      "metadata": {
        "id": "UgoJoOmcVxpN"
      },
      "source": [
        "The Four lines of code given below are to make sure that the required packages are imported for the translation between languages.\n",
        "\n",
        "\n"
      ]
    },
    {
      "cell_type": "code",
      "execution_count": 2,
      "metadata": {
        "colab": {
          "base_uri": "https://localhost:8080/"
        },
        "id": "jeGa9m_0b9jO",
        "outputId": "3936a092-da0f-4086-8b87-ff0ec812bcf1"
      },
      "outputs": [
        {
          "output_type": "stream",
          "name": "stdout",
          "text": [
            "Looking in indexes: https://pypi.org/simple, https://us-python.pkg.dev/colab-wheels/public/simple/\n",
            "Collecting libretranslatepy\n",
            "  Downloading libretranslatepy-2.1.3-py3-none-any.whl (3.4 kB)\n",
            "Installing collected packages: libretranslatepy\n",
            "Successfully installed libretranslatepy-2.1.3\n"
          ]
        }
      ],
      "source": [
        "pip install libretranslatepy #this is used to import the translator api"
      ]
    },
    {
      "cell_type": "code",
      "execution_count": 3,
      "metadata": {
        "colab": {
          "base_uri": "https://localhost:8080/"
        },
        "id": "wGIH9tnmcLRD",
        "outputId": "7e1d8dd7-4f99-4e47-9053-07ed82812d80"
      },
      "outputs": [
        {
          "output_type": "stream",
          "name": "stdout",
          "text": [
            "Looking in indexes: https://pypi.org/simple, https://us-python.pkg.dev/colab-wheels/public/simple/\n",
            "Collecting fpdf\n",
            "  Downloading fpdf-1.7.2.tar.gz (39 kB)\n",
            "  Preparing metadata (setup.py) ... \u001b[?25l\u001b[?25hdone\n",
            "Building wheels for collected packages: fpdf\n",
            "  Building wheel for fpdf (setup.py) ... \u001b[?25l\u001b[?25hdone\n",
            "  Created wheel for fpdf: filename=fpdf-1.7.2-py2.py3-none-any.whl size=40704 sha256=a24135b25cf246116ad70522c583630a9c5c7ad3012d97e09e91f568f3be5d33\n",
            "  Stored in directory: /root/.cache/pip/wheels/f9/95/ba/f418094659025eb9611f17cbcaf2334236bf39a0c3453ea455\n",
            "Successfully built fpdf\n",
            "Installing collected packages: fpdf\n",
            "Successfully installed fpdf-1.7.2\n"
          ]
        }
      ],
      "source": [
        "pip install fpdf #this is used to create the required output pdf"
      ]
    },
    {
      "cell_type": "code",
      "execution_count": 4,
      "metadata": {
        "colab": {
          "base_uri": "https://localhost:8080/"
        },
        "id": "m4z9jJeJcN0z",
        "outputId": "871e4e8d-d028-47ec-c165-6f04389cc859"
      },
      "outputs": [
        {
          "output_type": "stream",
          "name": "stdout",
          "text": [
            "Looking in indexes: https://pypi.org/simple, https://us-python.pkg.dev/colab-wheels/public/simple/\n",
            "Collecting PyPDF2\n",
            "  Downloading pypdf2-3.0.1-py3-none-any.whl (232 kB)\n",
            "\u001b[2K     \u001b[90m━━━━━━━━━━━━━━━━━━━━━━━━━━━━━━━━━━━━━━\u001b[0m \u001b[32m232.6/232.6 kB\u001b[0m \u001b[31m10.8 MB/s\u001b[0m eta \u001b[36m0:00:00\u001b[0m\n",
            "\u001b[?25hInstalling collected packages: PyPDF2\n",
            "Successfully installed PyPDF2-3.0.1\n"
          ]
        }
      ],
      "source": [
        "pip install PyPDF2 #this is used to read the given input pdf"
      ]
    },
    {
      "cell_type": "code",
      "execution_count": 5,
      "metadata": {
        "colab": {
          "base_uri": "https://localhost:8080/"
        },
        "id": "wYzPMC-gcQM0",
        "outputId": "3fbfb711-5ec0-45c4-9e97-4879808c28ce"
      },
      "outputs": [
        {
          "output_type": "stream",
          "name": "stdout",
          "text": [
            "Looking in indexes: https://pypi.org/simple, https://us-python.pkg.dev/colab-wheels/public/simple/\n",
            "Collecting mosestokenizer\n",
            "  Downloading mosestokenizer-1.2.1.tar.gz (37 kB)\n",
            "  Preparing metadata (setup.py) ... \u001b[?25l\u001b[?25hdone\n",
            "Collecting docopt (from mosestokenizer)\n",
            "  Downloading docopt-0.6.2.tar.gz (25 kB)\n",
            "  Preparing metadata (setup.py) ... \u001b[?25l\u001b[?25hdone\n",
            "Collecting openfile (from mosestokenizer)\n",
            "  Downloading openfile-0.0.7-py3-none-any.whl (2.4 kB)\n",
            "Collecting uctools (from mosestokenizer)\n",
            "  Downloading uctools-1.3.0.tar.gz (4.6 kB)\n",
            "  Preparing metadata (setup.py) ... \u001b[?25l\u001b[?25hdone\n",
            "Collecting toolwrapper (from mosestokenizer)\n",
            "  Downloading toolwrapper-2.1.0.tar.gz (3.2 kB)\n",
            "  Preparing metadata (setup.py) ... \u001b[?25l\u001b[?25hdone\n",
            "Building wheels for collected packages: mosestokenizer, docopt, toolwrapper, uctools\n",
            "  Building wheel for mosestokenizer (setup.py) ... \u001b[?25l\u001b[?25hdone\n",
            "  Created wheel for mosestokenizer: filename=mosestokenizer-1.2.1-py3-none-any.whl size=49171 sha256=e4db3ebfad6f78c7092cd2e57a176eecee18508b94e3c85c111590a486ef3bbf\n",
            "  Stored in directory: /root/.cache/pip/wheels/80/d8/15/4c5ebbe883513f003cb055a0369c77c9df857023a706f39e70\n",
            "  Building wheel for docopt (setup.py) ... \u001b[?25l\u001b[?25hdone\n",
            "  Created wheel for docopt: filename=docopt-0.6.2-py2.py3-none-any.whl size=13707 sha256=7def3282a28d6f8dcf946e5b18f797c8ead93c687b64ce79dfa757a415eeac3c\n",
            "  Stored in directory: /root/.cache/pip/wheels/fc/ab/d4/5da2067ac95b36618c629a5f93f809425700506f72c9732fac\n",
            "  Building wheel for toolwrapper (setup.py) ... \u001b[?25l\u001b[?25hdone\n",
            "  Created wheel for toolwrapper: filename=toolwrapper-2.1.0-py3-none-any.whl size=3337 sha256=d5575758f91003bd043e48b1e12b36ae0a98709bcf719a93223f5692c8e53c1c\n",
            "  Stored in directory: /root/.cache/pip/wheels/e1/af/b1/99b57a06dda78fdcee86d2e22c64743f3b8df8f31cfc04baf7\n",
            "  Building wheel for uctools (setup.py) ... \u001b[?25l\u001b[?25hdone\n",
            "  Created wheel for uctools: filename=uctools-1.3.0-py3-none-any.whl size=6147 sha256=4d5b7e445e21dba7274a760f1ad80374d7633ba4b5a95a246386b15a7aad7c47\n",
            "  Stored in directory: /root/.cache/pip/wheels/05/ee/10/33257b0801ac6a912c841939032c16da1eb3db377afe1443e5\n",
            "Successfully built mosestokenizer docopt toolwrapper uctools\n",
            "Installing collected packages: toolwrapper, openfile, docopt, uctools, mosestokenizer\n",
            "Successfully installed docopt-0.6.2 mosestokenizer-1.2.1 openfile-0.0.7 toolwrapper-2.1.0 uctools-1.3.0\n"
          ]
        }
      ],
      "source": [
        "pip install mosestokenizer #this is used to split the setences from the input for faster processing"
      ]
    },
    {
      "cell_type": "code",
      "execution_count": 17,
      "metadata": {
        "colab": {
          "base_uri": "https://localhost:8080/"
        },
        "id": "TY5MdzUwcaMK",
        "outputId": "dcc1a95c-223e-4b8c-f43a-1452451e2383"
      },
      "outputs": [
        {
          "output_type": "stream",
          "name": "stdout",
          "text": [
            "enter language:\n",
            "en\n",
            "enter text\n",
            "The computer is the data-based electronic machine initially invented by Charles Babbage back in 1837. H e is called the “Father of computer”. With the computer’s discovery, man has entered a new period of impr ovement. In this modern era, lives would be impossible without owning a computer. A computer provides us with a wide range of possibilities, and there is an infinite number of things that can be done with the hel p of a computer. A computer is a widely used device. Almost every family has a computer. It can perform various functions and make our lives easier. It has four main parts: Monitor, Keyboard, CPU, and Mouse. A Computer can be used to send and receive messages and emails. It also has features like the paint tool, notepad, and c alculator. It allows us to store and modify data. A computer is a very reliable device and is used everywhe re, starting from schools to offices to medical fields. The only disadvantage of a computer is that we depe nd too much on it and use it to complete even the easiest of tasks. Even if that is the case, there is nothin g that a computer cannot do for us. Scientists are working every day to improve the quality of computers. Having basic knowledge about computers is important in this generation so that work can be done easily. There is no place on this planet where a computer is not used. Computers are an essential part of our live s. Whether it is school, college, or office work, most of it is completed with a computer’s help. It has four e ssential parts: Monitor, Keyboard, CPU, and Mouse. They are the hardware of any computer system. The monitor is like the T.V screen, which displays the input data. The keyboard is the part that is used to type sentences or write numbers on the monitor. The mouse is used to click icons on the monitor, and the CP U is the brain of the computer. A computer makes our lives ten times easier. It has features like the paint tool which can be used to draw and paint on the monitor—Word, which can be used to take notes. Music players and Windows Media Pla yer can be used to play music and watch movies and videos. A computer can also be connected to the int ernet, enabling the user to watch movies and videos online. A computer is used to send and receive email s and store and alter data. It makes complex calculations easier. Computers are used widely in industries, government institutions, banks, insurance companies, schools, offices, medical fields, and of course, in every home. However, using a computer comes with a few disadv antages. Hackers can hack and steal private information through viruses any time they like. Using a comp uter makes us lazy since we rely too much on it and stop working hard. Even with problems, no doubt livin g our lives would be impossible without a computer by our side. Researchers are working day and night to increase the quality of computers. Knowing operating a computer is a must in this generation. If we do no t have that, we will fall behind in the daily race of life. \n",
            "PDF File Generated\n"
          ]
        }
      ],
      "source": [
        "#Creating Input pdf file if not created and converting input text to pdf.\n",
        "from mosestokenizer import *\n",
        "from fpdf import FPDF\n",
        "\n",
        "lang = input(\"enter language:\\n\") # This is the language of the input file\n",
        "input_txt = input(\"enter text\\n\") # We take the text input from the user  \n",
        "# The function given below splits the sentences \n",
        "text = input_txt.split('\\n')\n",
        "pdf = FPDF()  \n",
        "pdf.add_page() # Adding a page to a newly created pdf file\n",
        "# set style and size of font\n",
        "pdf.add_font(\"modified\",fname='Arial-Unicode-Regular.ttf',uni=True)\n",
        "pdf.set_font(\"modified\", size = 15)\n",
        "f = text\n",
        "# insert the texts in pdf\n",
        "for x in f:\n",
        "    pdf.multi_cell(200, 10, txt = x, align = 'L')\n",
        "  \n",
        "# save the pdf with name input.pdf\n",
        "pdf.output(\"input.pdf\")  \n",
        "print(\"PDF File Generated\")"
      ]
    },
    {
      "cell_type": "code",
      "execution_count": 21,
      "metadata": {
        "colab": {
          "base_uri": "https://localhost:8080/"
        },
        "id": "prIFpr7HcZRK",
        "outputId": "72488699-530c-4cdb-d055-14cee9af1a24"
      },
      "outputs": [
        {
          "output_type": "stream",
          "name": "stdout",
          "text": [
            "Language Options Are Given Below \n",
            "\n",
            "[{'code': 'en', 'name': 'English'}, {'code': 'ar', 'name': 'Arabic'}, {'code': 'zh', 'name': 'Chinese'}, {'code': 'fr', 'name': 'French'}, {'code': 'de', 'name': 'German'}, {'code': 'hi', 'name': 'Hindi'}, {'code': 'id', 'name': 'Indonesian'}, {'code': 'ga', 'name': 'Irish'}, {'code': 'it', 'name': 'Italian'}, {'code': 'ja', 'name': 'Japanese'}, {'code': 'ko', 'name': 'Korean'}, {'code': 'pl', 'name': 'Polish'}, {'code': 'pt', 'name': 'Portuguese'}, {'code': 'ru', 'name': 'Russian'}, {'code': 'es', 'name': 'Spanish'}, {'code': 'tr', 'name': 'Turkish'}, {'code': 'vi', 'name': 'Vietnamese'}]\n",
            "\n",
            "Enter the input language of pdf file \n",
            "en\n",
            "Enter the language to translate to \n",
            " ar\n",
            "PDF Translation Successful\n"
          ]
        }
      ],
      "source": [
        "#taking input as pdf and translating to given language and providing output pdf for it.\n",
        "from libretranslatepy import LibreTranslateAPI\n",
        "from fpdf import FPDF\n",
        "from mosestokenizer import *\n",
        "lt = LibreTranslateAPI(\"https://translate.argosopentech.com/\") #this line contains the url from which we are implementing the language translation.\n",
        "import PyPDF2\n",
        "from fpdf import FPDF\n",
        "# create a pdf file object\n",
        "#inputpdf = input(\"Enter name of uploaded pdf\")\n",
        "pdfFileObj = open('input.pdf', 'rb') # Here we are opening an aldready existing pdf that has been uplaoded on google colaboratory.\n",
        "# create a pdf reader object\n",
        "pdfReader = PyPDF2.PdfReader(pdfFileObj)\n",
        "print(\"Language Options Are Given Below \\n\")\n",
        "print(lt.languages())\n",
        "print()\n",
        "inlang = input(\"Enter the input language of pdf file \\n\")\n",
        "outlang = input(\"Enter the language to translate to \\n \")\n",
        "extracted_text = ''\n",
        "for pageObj in pdfReader.pages:\n",
        "        extracted_text += pageObj.extract_text()\n",
        "\n",
        "pdfFileObj.close()\n",
        "# The below function is used to split the extracted text into sentences for faster translation.\n",
        "def split_sentences(paragraph, language):\n",
        "    if language == inlang:\n",
        "        with MosesSentenceSplitter(language) as splitter:\n",
        "            return splitter([paragraph])\n",
        "\n",
        "text = split_sentences(extracted_text,inlang)\n",
        "#text = extracted_text.split('\\n')  # We store the split sentences into variable text.\n",
        "translated_text=lt.translate(text, inlang, outlang) # Here we are translating the given input text from input  language into the rquired output language.\n",
        "pdf = FPDF()\n",
        "# we create a .txt file to store the translated text into it.\n",
        "file = open(\"translated\"+outlang+\".txt\", \"w\")\n",
        "file.write(translated_text)\n",
        "file.close()\n",
        "pdf = FPDF(orientation = 'P', unit = 'mm', format='A4')  \n",
        "# Add a page\n",
        "pdf.add_page()\n",
        "  \n",
        "# set style and size of font\n",
        "pdf.add_font(\"modified\",fname='Arial-Unicode-Regular.ttf',uni=True)\n",
        "pdf.set_font(\"modified\", size = 15)\n",
        "#pdf.set_doc_option(opt:'windows-1252',file)\n",
        "# open the text file in read mode\n",
        "file = open(\"translated\"+outlang+\".txt\", \"r\")\n",
        "\n",
        "f = file\n",
        "\n",
        "# insert the texts in pdf\n",
        "for x in f:\n",
        "   \n",
        "   pdf.multi_cell(200, 10, txt = x, align = 'L')\n",
        "\n",
        "  \n",
        "# save the pdf with name .pdf\n",
        "pdf.output(\"translated\"+outlang+\".pdf\")\n",
        "print(\"PDF Translation Successful\")"
      ]
    }
  ],
  "metadata": {
    "colab": {
      "provenance": [],
      "authorship_tag": "ABX9TyNFZP6v7B9TU4YSGTcBJ4Eh",
      "include_colab_link": true
    },
    "kernelspec": {
      "display_name": "Python 3",
      "name": "python3"
    },
    "language_info": {
      "name": "python"
    }
  },
  "nbformat": 4,
  "nbformat_minor": 0
}