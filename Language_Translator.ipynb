{
  "nbformat": 4,
  "nbformat_minor": 0,
  "metadata": {
    "colab": {
      "provenance": [],
      "authorship_tag": "ABX9TyOXSxaQSyBW3h7UziW8uRhG",
      "include_colab_link": true
    },
    "kernelspec": {
      "name": "python3",
      "display_name": "Python 3"
    },
    "language_info": {
      "name": "python"
    }
  },
  "cells": [
    {
      "cell_type": "markdown",
      "metadata": {
        "id": "view-in-github",
        "colab_type": "text"
      },
      "source": [
        "<a href=\"https://colab.research.google.com/github/sammmy047/Project_Viveka/blob/main/Language_Translator.ipynb\" target=\"_parent\"><img src=\"https://colab.research.google.com/assets/colab-badge.svg\" alt=\"Open In Colab\"/></a>"
      ]
    },
    {
      "cell_type": "markdown",
      "source": [
        "The Four lines of code given below are to make sure that the required packages are imported for the translation between languages.\n",
        "\n",
        "\n"
      ],
      "metadata": {
        "id": "UgoJoOmcVxpN"
      }
    },
    {
      "cell_type": "code",
      "execution_count": null,
      "metadata": {
        "id": "jeGa9m_0b9jO"
      },
      "outputs": [],
      "source": [
        "pip install libretranslatepy #this is used to import the translator api"
      ]
    },
    {
      "cell_type": "code",
      "source": [
        "pip install fpdf #this is used to create the required output pdf"
      ],
      "metadata": {
        "id": "wGIH9tnmcLRD"
      },
      "execution_count": null,
      "outputs": []
    },
    {
      "cell_type": "code",
      "source": [
        "pip install PyPDF2 #this is used to read the given input pdf"
      ],
      "metadata": {
        "id": "m4z9jJeJcN0z"
      },
      "execution_count": null,
      "outputs": []
    },
    {
      "cell_type": "code",
      "source": [
        "pip install mosestokenizer #this is used to split the setences from the input for faster processing"
      ],
      "metadata": {
        "id": "wYzPMC-gcQM0"
      },
      "execution_count": null,
      "outputs": []
    },
    {
      "cell_type": "code",
      "source": [
        "#Creating Input pdf file if not created and converting input text to pdf.\n",
        "from mosestokenizer import *\n",
        "from fpdf import FPDF\n",
        "\n",
        "lang = input(\"enter language:\\n\") # This is the language of the input file\n",
        "input_txt = input(\"enter text\\n\") # We take the text input from the user  \n",
        "# The function given below splits the sentences \n",
        "def split_sentences(paragraph, language):\n",
        "    if language == lang:\n",
        "        with MosesSentenceSplitter(language) as splitter:\n",
        "            return splitter([paragraph])\n",
        "text = split_sentences(input_txt,lang)\n",
        "pdf = FPDF()  \n",
        "pdf.add_page() # Adding a page to a newly created pdf file\n",
        "# set style and size of font\n",
        "pdf.set_font(\"Arial\", size = 15)\n",
        "f = text\n",
        "# insert the texts in pdf\n",
        "for x in f:\n",
        "    pdf.multi_cell(200, 10, txt = x, align = 'L')\n",
        "  \n",
        "# save the pdf with name input.pdf\n",
        "pdf.output(\"input.pdf\")  \n",
        "print(\"PDF File Generated\")"
      ],
      "metadata": {
        "colab": {
          "base_uri": "https://localhost:8080/"
        },
        "id": "TY5MdzUwcaMK",
        "outputId": "de4d0b8b-8886-452f-86b0-dbc1b9101dcb"
      },
      "execution_count": 39,
      "outputs": [
        {
          "output_type": "stream",
          "name": "stdout",
          "text": [
            "enter language:\n",
            "en\n",
            "enter text\n",
            "A computer is a machine that can be programmed to carry out sequences of arithmetic or logical operations (computation) automatically. Modern digital electronic computers can perform generic sets of operations known as programs. These programs enable computers to perform a wide range of tasks. A computer system is a nominally complete computer that includes the hardware, operating system (main software), and peripheral equipment needed and used for full operation. This term may also refer to a group of computers that are linked and function together, such as a computer network or computer cluster. A broad range of industrial and consumer products use computers as control systems. Simple special-purpose devices like microwave ovens and remote controls are included, as are factory devices like industrial robots and computer-aided design, as well as general-purpose devices like personal computers and mobile devices like smartphones. Computers power the Internet, which links billions of other computers and users. Early computers were meant to be used only for calculations. Simple manual instruments like the abacus have aided people in doing calculations since ancient times. Early in the Industrial Revolution, some mechanical devices were built to automate long, tedious tasks, such as guiding patterns for looms. More sophisticated electrical machines did specialized analog calculations in the early 20th century. The first digital electronic calculating machines were developed during World War II. The first semiconductor transistors in the late 1940s were followed by the silicon-based MOSFET (MOS transistor) and monolithic integrated circuit chip technologies in the late 1950s, leading to the microprocessor and the microcomputer revolution in the 1970s. The speed, power and versatility of computers have been increasing dramatically ever since then, with transistor counts increasing at a rapid pace (as predicted by Moore's law), leading to the Digital Revolution during the late 20th to early 21st centuries. Conventionally, a modern computer consists of at least one processing element, typically a central processing unit (CPU) in the form of a microprocessor, along with some type of computer memory, typically semiconductor memory chips. The processing element carries out arithmetic and logical operations, and a sequencing and control unit can change the order of operations in response to stored information. Peripheral devices include input devices (keyboards, mice, joystick, etc.), output devices (monitor screens, printers, etc.), and input/output devices that perform both functions (e.g., the 2000s-era touchscreen). Peripheral devices allow information to be retrieved from an external source and they enable the result of operations to be saved and retrieved.\n",
            "PDF File Generated\n"
          ]
        }
      ]
    },
    {
      "cell_type": "code",
      "source": [
        "#taking input as pdf and translating to given language and providing output pdf for it.\n",
        "from libretranslatepy import LibreTranslateAPI\n",
        "from fpdf import FPDF\n",
        "from mosestokenizer import *\n",
        "lt = LibreTranslateAPI(\"https://translate.argosopentech.com/\") #this line contains the url from which we are implementing the language translation.\n",
        "import PyPDF2\n",
        "from fpdf import FPDF\n",
        "# create a pdf file object\n",
        "pdfFileObj = open('input.pdf', 'rb') # Here we are opening an aldready existing pdf that has been uplaoded on google colaboratory.\n",
        "# create a pdf reader object\n",
        "pdfReader = PyPDF2.PdfReader(pdfFileObj)\n",
        "print(\"Language Options Are Given Below \\n\")\n",
        "print(lt.languages())\n",
        "print()\n",
        "inlang = input(\"Enter the input language of pdf file \\n\")\n",
        "outlang = input(\"Enter the language to translate to \\n \")\n",
        "extracted_text = ''\n",
        "for pageObj in pdfReader.pages:\n",
        "        extracted_text += pageObj.extract_text()\n",
        "\n",
        "pdfFileObj.close()\n",
        "# The below function is used to split the extracted text into sentences for faster translation.\n",
        "def split_sentences(paragraph, language):\n",
        "    if language == inlang:\n",
        "        with MosesSentenceSplitter(language) as splitter:\n",
        "            return splitter([paragraph])\n",
        "\n",
        "text = split_sentences(extracted_text,inlang)  # We store the split sentences into variable text.\n",
        "\n",
        "translated_text=lt.translate(text, inlang, outlang) # Here we are translating the given input text from input  language into the rquired output language.\n",
        "pdf = FPDF()\n",
        "# we create a .txt file to store the translated text into it.\n",
        "file = open(\"translated.txt\", \"w\")\n",
        "file.write(translated_text)\n",
        "file.close()\n",
        "pdf = FPDF(orientation = 'P', unit = 'mm', format='A4')  \n",
        "# Add a page\n",
        "pdf.add_page()\n",
        "  \n",
        "# set style and size of font\n",
        "pdf.set_font(\"Arial\", size = 15)\n",
        "# open the text file in read mode\n",
        "file = open(\"translated.txt\", \"r\")\n",
        "\n",
        "f = file\n",
        " \n",
        "# insert the texts in pdf\n",
        "for x in f:\n",
        "    pdf.multi_cell(200, 10, txt = x, align = 'L')\n",
        "  \n",
        "# save the pdf with name .pdf\n",
        "pdf.output(\"translated.pdf\")\n",
        "print(\"PDF Translation Successful\")"
      ],
      "metadata": {
        "colab": {
          "base_uri": "https://localhost:8080/"
        },
        "id": "prIFpr7HcZRK",
        "outputId": "b262ac7c-0635-4d6e-b03a-583e7acf2aaa"
      },
      "execution_count": 41,
      "outputs": [
        {
          "output_type": "stream",
          "name": "stdout",
          "text": [
            "Language Options Are Given Below \n",
            "\n",
            "[{'code': 'en', 'name': 'English'}, {'code': 'ar', 'name': 'Arabic'}, {'code': 'zh', 'name': 'Chinese'}, {'code': 'fr', 'name': 'French'}, {'code': 'de', 'name': 'German'}, {'code': 'hi', 'name': 'Hindi'}, {'code': 'id', 'name': 'Indonesian'}, {'code': 'ga', 'name': 'Irish'}, {'code': 'it', 'name': 'Italian'}, {'code': 'ja', 'name': 'Japanese'}, {'code': 'ko', 'name': 'Korean'}, {'code': 'pl', 'name': 'Polish'}, {'code': 'pt', 'name': 'Portuguese'}, {'code': 'ru', 'name': 'Russian'}, {'code': 'es', 'name': 'Spanish'}, {'code': 'tr', 'name': 'Turkish'}, {'code': 'vi', 'name': 'Vietnamese'}]\n",
            "\n",
            "Enter the input language of pdf file \n",
            "en\n",
            "Enter the language to translate to \n",
            " fr\n",
            "PDF Translation Successful\n"
          ]
        }
      ]
    }
  ]
}